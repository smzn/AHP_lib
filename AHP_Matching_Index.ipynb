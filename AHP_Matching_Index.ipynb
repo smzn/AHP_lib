{
  "nbformat": 4,
  "nbformat_minor": 0,
  "metadata": {
    "colab": {
      "name": "AHP_Matching_Index.ipynb",
      "provenance": []
    },
    "kernelspec": {
      "name": "python3",
      "display_name": "Python 3"
    },
    "language_info": {
      "name": "python"
    }
  },
  "cells": [
    {
      "cell_type": "markdown",
      "metadata": {
        "id": "6I7nJ6HQVj41"
      },
      "source": [
        "## 利用者に対するマッチング指数"
      ]
    },
    {
      "cell_type": "markdown",
      "metadata": {
        "id": "l-MHRpnVVeWq"
      },
      "source": [
        "### AHPでの最終評価：学生数N=5、企業数M=3の場合"
      ]
    },
    {
      "cell_type": "code",
      "metadata": {
        "id": "YwfeeZs9Vif4"
      },
      "source": [
        "import numpy as np"
      ],
      "execution_count": 25,
      "outputs": []
    },
    {
      "cell_type": "code",
      "metadata": {
        "colab": {
          "base_uri": "https://localhost:8080/"
        },
        "id": "Lrt6HLNBVtrv",
        "outputId": "69dd7357-e4ea-4705-c707-0b2836c1c531"
      },
      "source": [
        "#学生5人の最終結果(企業数3社)\n",
        "C = np.array([[0.5, 0.3, 0.2], [0.4, 0.2, 0.4], [0.6, 0.3, 0.1], [0.3, 0.4, 0.3], [0.6, 0.2, 0.2]])\n",
        "C"
      ],
      "execution_count": 26,
      "outputs": [
        {
          "output_type": "execute_result",
          "data": {
            "text/plain": [
              "array([[0.5, 0.3, 0.2],\n",
              "       [0.4, 0.2, 0.4],\n",
              "       [0.6, 0.3, 0.1],\n",
              "       [0.3, 0.4, 0.3],\n",
              "       [0.6, 0.2, 0.2]])"
            ]
          },
          "metadata": {},
          "execution_count": 26
        }
      ]
    },
    {
      "cell_type": "code",
      "metadata": {
        "colab": {
          "base_uri": "https://localhost:8080/"
        },
        "id": "4YX-HctdWBBr",
        "outputId": "eef3b32b-b648-4bf4-82c6-791e651e303d"
      },
      "source": [
        "#企業3社の最終結果(学生数5人)\n",
        "S = np.array([[0.2, 0.2, 0.1, 0.3, 0.2],[0.3, 0.2, 0.1, 0.2, 0.2], [0.4, 0.3, 0.1, 0.1, 0.1]])\n",
        "S.T"
      ],
      "execution_count": 27,
      "outputs": [
        {
          "output_type": "execute_result",
          "data": {
            "text/plain": [
              "array([[0.2, 0.3, 0.4],\n",
              "       [0.2, 0.2, 0.3],\n",
              "       [0.1, 0.1, 0.1],\n",
              "       [0.3, 0.2, 0.1],\n",
              "       [0.2, 0.2, 0.1]])"
            ]
          },
          "metadata": {},
          "execution_count": 27
        }
      ]
    },
    {
      "cell_type": "code",
      "metadata": {
        "colab": {
          "base_uri": "https://localhost:8080/"
        },
        "id": "vVP4l3W9XFiL",
        "outputId": "b0f7396a-d9d2-4402-e414-48778f5d7365"
      },
      "source": [
        "#学生の評価項目行列(評価項目数:4)\n",
        "Sv = np.array([[7, 5, 3, 1], [3, 3, 1, 5], [1, 3, 7, 5], [3, 7, 5, 1], [5, 1, 7, 5]])\n",
        "Sv"
      ],
      "execution_count": 28,
      "outputs": [
        {
          "output_type": "execute_result",
          "data": {
            "text/plain": [
              "array([[7, 5, 3, 1],\n",
              "       [3, 3, 1, 5],\n",
              "       [1, 3, 7, 5],\n",
              "       [3, 7, 5, 1],\n",
              "       [5, 1, 7, 5]])"
            ]
          },
          "metadata": {},
          "execution_count": 28
        }
      ]
    },
    {
      "cell_type": "code",
      "metadata": {
        "colab": {
          "base_uri": "https://localhost:8080/"
        },
        "id": "dNoGB2esYrXp",
        "outputId": "ecd69112-715b-4159-967a-e6291fe9e871"
      },
      "source": [
        "#企業の評価項目行列(評価項目数:4)\n",
        "Sc = np.array([[5, 5, 3, 1], [3, 1, 1, 5], [3, 3, 7, 5]])\n",
        "Sc"
      ],
      "execution_count": 29,
      "outputs": [
        {
          "output_type": "execute_result",
          "data": {
            "text/plain": [
              "array([[5, 5, 3, 1],\n",
              "       [3, 1, 1, 5],\n",
              "       [3, 3, 7, 5]])"
            ]
          },
          "metadata": {},
          "execution_count": 29
        }
      ]
    },
    {
      "cell_type": "code",
      "metadata": {
        "id": "Xn6IRwX3Y-N_"
      },
      "source": [
        "def cos_sim(v1, v2): #コサイン類似度を求める関数\n",
        "  return np.dot(v1, v2) / (np.linalg.norm(v1) * np.linalg.norm(v2))"
      ],
      "execution_count": 30,
      "outputs": []
    },
    {
      "cell_type": "code",
      "metadata": {
        "colab": {
          "base_uri": "https://localhost:8080/"
        },
        "id": "syPIuIQ0aFMy",
        "outputId": "b86df374-293c-4829-ddfc-bbd50c2b86ac"
      },
      "source": [
        "L = 4 #評価項目数\n",
        "R = np.zeros((len(Sv), len(Sc))) #コサイン類似度を格納\n",
        "for i in range(len(Sv)):\n",
        "  for j in range(len(Sc)):\n",
        "    R[i,j] = cos_sim(Sv[i], Sc[j])\n",
        "R"
      ],
      "execution_count": 31,
      "outputs": [
        {
          "output_type": "execute_result",
          "data": {
            "text/plain": [
              "array([[0.9860133 , 0.61828402, 0.70527442],\n",
              "       [0.739574  , 0.95478592, 0.78586827],\n",
              "       [0.6479516 , 0.69102332, 0.97828387],\n",
              "       [0.92966968, 0.47280543, 0.79627757],\n",
              "       [0.72295689, 0.8       , 0.9591663 ]])"
            ]
          },
          "metadata": {},
          "execution_count": 31
        }
      ]
    },
    {
      "cell_type": "code",
      "metadata": {
        "colab": {
          "base_uri": "https://localhost:8080/"
        },
        "id": "elNFsAzSar4F",
        "outputId": "2f2416a2-fc4c-4382-dcd4-c4f678a54867"
      },
      "source": [
        "#マッチング指数を求める\n",
        "alpha = 1.0\n",
        "MCG = np.zeros((len(Sv), len(Sc)))\n",
        "MCG = C * S.T + alpha * R\n",
        "MCG"
      ],
      "execution_count": 32,
      "outputs": [
        {
          "output_type": "execute_result",
          "data": {
            "text/plain": [
              "array([[1.0860133 , 0.70828402, 0.78527442],\n",
              "       [0.819574  , 0.99478592, 0.90586827],\n",
              "       [0.7079516 , 0.72102332, 0.98828387],\n",
              "       [1.01966968, 0.55280543, 0.82627757],\n",
              "       [0.84295689, 0.84      , 0.9791663 ]])"
            ]
          },
          "metadata": {},
          "execution_count": 32
        }
      ]
    },
    {
      "cell_type": "code",
      "metadata": {
        "id": "QLwdsm7Jc6Ns"
      },
      "source": [
        ""
      ],
      "execution_count": 32,
      "outputs": []
    }
  ]
}